{
 "cells": [
  {
   "cell_type": "markdown",
   "metadata": {},
   "source": [
    "# My First Deep Learning Bot - Step by Step\n",
    "\n",
    "\n",
    "\n",
    "## Welcome\n",
    "\n",
    "My name is Jordan Yeomans. \n",
    "\n",
    "In mid 2017 I stumbled across the world of AI. After watching a few random Youtube video's from Andrew Ng, Elon Musk and various TED talks I quickly learnt AI is a big deal!\n",
    "\n",
    "In December 2017 I took the plunge and installed Python. After learning the basics I am absolutely hooked. To anyone who's a bit overwhelmed and doesn't know where to start, I hope I can inspire you to jump in head first and learn AI with me\n",
    "\n",
    "~ Jordan"
   ]
  },
  {
   "cell_type": "markdown",
   "metadata": {},
   "source": [
    "# AI Learns To Play Connect 4\n",
    "### Introduction\n",
    "\n",
    "Our first project is to learn to play \"Four In A Row\". I've never attempted a project like this, so it will be fun to share the journey.\n",
    "\n",
    "I've found a cool 4 in a row competition from a Website called Riddles.io (https://playground.riddles.io/competitions/four-in-a-row). \n",
    "\n",
    "If you've never seen 4 in a row here's a picture. Players alternate turns placing a token in a column of their choice. The first player with 4 tokens in a row (Vertical, Horizontal or Diagonal) Wins!"
   ]
  },
  {
   "cell_type": "code",
   "execution_count": 1,
   "metadata": {},
   "outputs": [
    {
     "data": {
      "text/html": [
       "<img src=\"https://static-content.riddles.io/four-in-a-row-thumbnail-2.jpg\" width=\"500\"/>"
      ],
      "text/plain": [
       "<IPython.core.display.Image object>"
      ]
     },
     "execution_count": 1,
     "metadata": {},
     "output_type": "execute_result"
    }
   ],
   "source": [
    "from IPython.display import Image\n",
    "from IPython.core.display import HTML \n",
    "\n",
    "Image(url= \"https://static-content.riddles.io/four-in-a-row-thumbnail-2.jpg\", width=500)"
   ]
  },
  {
   "cell_type": "markdown",
   "metadata": {},
   "source": [
    "### Installation\n",
    "\n",
    "Installation details can be found on the Riddles.io github - https://github.com/jmerle/ai-bot-workspace\n",
    "\n",
    "Quoted directly from the Github and re-orded:\n",
    "\n",
    "- Make sure you got Java 8 installed\n",
    "- Install Node.js \n",
    "- Install Yarn\n",
    "\n",
    "Then:\n",
    "- clone this repository (https://github.com/jmerle/ai-bot-workspace)\n",
    "- Open a Command Prompt\n",
    "- cd into the directory \n",
    "- Install the dependencies by running yarn \n",
    "- Start the application using start yarn\n",
    "\n",
    "After that we can use the interactive application to run games locally on our machine"
   ]
  },
  {
   "cell_type": "code",
   "execution_count": 2,
   "metadata": {},
   "outputs": [
    {
     "data": {
      "text/html": [
       "<img src=\"https://i.imgur.com/rkoHe3h.png\" width=\"1000\"/>"
      ],
      "text/plain": [
       "<IPython.core.display.Image object>"
      ]
     },
     "execution_count": 2,
     "metadata": {},
     "output_type": "execute_result"
    }
   ],
   "source": [
    "Image(url= \"https://i.imgur.com/rkoHe3h.png\", width=1000)"
   ]
  },
  {
   "cell_type": "markdown",
   "metadata": {},
   "source": [
    "Now we need to figure out how to get a random game to work. Luckily, Riddles.io has a starter code for python\n",
    "\n",
    "- Page - https://playground.riddles.io/competitions/four-in-a-row/how-to-play\n",
    "- Python Starter Code - https://storage.googleapis.com/riddles-production/fourinarow-starterbot-python3.zip\n",
    "\n",
    "I copied the main.py file into the github folder that I cloned so I could direct the bot to it easily. File -> Settings allows us to change the file that each bot is using. I also changed the maximum timebank to reduce the error time"
   ]
  },
  {
   "cell_type": "code",
   "execution_count": 3,
   "metadata": {},
   "outputs": [
    {
     "data": {
      "text/html": [
       "<img src=\"https://i.imgur.com/dWMOAXV.png\" width=\"700\"/>"
      ],
      "text/plain": [
       "<IPython.core.display.Image object>"
      ]
     },
     "execution_count": 3,
     "metadata": {},
     "output_type": "execute_result"
    }
   ],
   "source": [
    "Image(url= \"https://i.imgur.com/dWMOAXV.png\", width=700)"
   ]
  },
  {
   "cell_type": "markdown",
   "metadata": {},
   "source": [
    "#### Success! \n",
    "\n",
    "At this point, you should have a game that seems to play pretty randomly. Our first goal is to beat a bot that plays randomly using a Neural Network.\n",
    "\n",
    "In part 2 we will figure out how to record some of these random games"
   ]
  }
 ],
 "metadata": {
  "kernelspec": {
   "display_name": "Python 3",
   "language": "python",
   "name": "python3"
  },
  "language_info": {
   "codemirror_mode": {
    "name": "ipython",
    "version": 3
   },
   "file_extension": ".py",
   "mimetype": "text/x-python",
   "name": "python",
   "nbconvert_exporter": "python",
   "pygments_lexer": "ipython3",
   "version": "3.6.4"
  }
 },
 "nbformat": 4,
 "nbformat_minor": 2
}
