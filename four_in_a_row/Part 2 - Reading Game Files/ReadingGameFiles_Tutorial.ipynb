{
 "cells": [
  {
   "cell_type": "markdown",
   "metadata": {},
   "source": [
    "# AI Learns to Play Connect 4\n",
    "#### Jordan Yeomans - 2018\n",
    "\n",
    "## Part 2 - Reading Saved Game Files\n",
    "\n",
    "### What's Next?\n",
    "\n",
    "At this stage, we want to build a function that can open the historical data files we have saved and plot the board. This is a great way to make sure that the saved data is formatted correctly. \n",
    "\n",
    "Additionally, as we build more and more complex AI I am sure we will want to be able to visualise what is happening.\n",
    "\n",
    "#### Step 1 - Load a saved game file\n",
    "\n",
    "Remember, our saved games have been created in the format:\n",
    "- A new file for each game\n",
    "- Dim 1: Round #\n",
    "- Dim 2: Rows\n",
    "- Dim 3: Columns\n",
    "\n",
    "We can now load a selected game file"
   ]
  },
  {
   "cell_type": "code",
   "execution_count": 1,
   "metadata": {},
   "outputs": [
    {
     "name": "stdout",
     "output_type": "stream",
     "text": [
      "Total Games = 2\n",
      "current_game shape = (30, 6, 7)\n"
     ]
    }
   ],
   "source": [
    "import numpy as np\n",
    "import matplotlib.pyplot as plt\n",
    "import os\n",
    "%matplotlib inline\n",
    "\n",
    "# Parameters for us to change\n",
    "folder = './Games/'\n",
    "game_num_to_plot = 0\n",
    "round_to_plot = 9\n",
    "\n",
    "# Get a list of all files in the load folder (note, only games should be in this folder)\n",
    "games = os.listdir(folder)\n",
    "\n",
    "# Assign the board to the chosen round to plot\n",
    "current_game = np.load(folder + games[game_num_to_plot])\n",
    "\n",
    "print('Total Games = {}'.format(len(games)))\n",
    "print('current_game shape = {}'.format(current_game.shape))"
   ]
  },
  {
   "cell_type": "markdown",
   "metadata": {},
   "source": [
    "#### Step 2 - Find the Last Round\n",
    "\n",
    "The function we will build will work for any round, but it's more fun if we can see the final round, so let's find that.\n",
    "\n",
    "Recall that when we created the file, we used 30 blank rounds and filled them in round after round. When the game ended we have a tail of rounds that are equal to zero. We need to find the first round of zero's and from there we know that the round just before that must have been the last round\n",
    "\n",
    "1. First we iterate over all rounds (First dimension of the array)\n",
    "2. Take the absolute value of the board (Turn any negatives to positives)\n",
    "3. Sum the total\n",
    "4. Repeat until the total is 0. At this point we know this is an empty board, and the board previously must have been the last board\n",
    "5. If the absolute sum is 0, break the loop. At this point the final round is (round - 1)\n",
    "\n",
    "We can print the absolute sum for each iteration to gain an intution of what is happening"
   ]
  },
  {
   "cell_type": "code",
   "execution_count": 2,
   "metadata": {},
   "outputs": [
    {
     "name": "stdout",
     "output_type": "stream",
     "text": [
      "Round 0, Absolute Sum = 1.0\n",
      "Round 1, Absolute Sum = 3.0\n",
      "Round 2, Absolute Sum = 5.0\n",
      "Round 3, Absolute Sum = 7.0\n",
      "Round 4, Absolute Sum = 9.0\n",
      "Round 5, Absolute Sum = 10.0\n",
      "Round 6, Absolute Sum = 0.0\n",
      "Final Round = 5\n"
     ]
    }
   ],
   "source": [
    "# Find Last Round\n",
    "for round in range(current_game.shape[0]):\n",
    "    current_game_abs = np.abs(current_game[round])\n",
    "    current_game_sum = np.sum(current_game_abs)\n",
    "    \n",
    "    print('Round {}, Absolute Sum = {}'.format(round, current_game_sum))\n",
    "    \n",
    "    if current_game_sum == 0:\n",
    "        round -= 1\n",
    "        break\n",
    "\n",
    "print('Final Round = {}'.format(round))"
   ]
  },
  {
   "cell_type": "markdown",
   "metadata": {},
   "source": [
    "#### Step 3 - Print Last Round\n",
    "\n",
    "We can get to the final game board by selecting the last round index and assigning it to a variable called final board. Let's print the board so we can see what it looks like"
   ]
  },
  {
   "cell_type": "code",
   "execution_count": 3,
   "metadata": {},
   "outputs": [
    {
     "name": "stdout",
     "output_type": "stream",
     "text": [
      "[[ 0.  0.  0.  0.  0.  0.  0.]\n",
      " [ 0.  0.  0.  0.  0.  0.  0.]\n",
      " [ 0.  0.  0.  0.  0.  0.  0.]\n",
      " [ 0.  0.  0.  1.  1.  0.  0.]\n",
      " [ 0.  0. -1. -1. -1.  0.  0.]\n",
      " [ 0.  1.  1. -1.  1. -1.  0.]]\n"
     ]
    }
   ],
   "source": [
    "# Assign the final board\n",
    "final_board = current_game[round]\n",
    "\n",
    "print(final_board)"
   ]
  },
  {
   "cell_type": "markdown",
   "metadata": {},
   "source": [
    "#### Step 4 - Create A Function To Plot The Board\n",
    "\n",
    "To plot the board, we follow the following steps:\n",
    "\n",
    "1. Iterate over all rows\n",
    "2. For each row, we iterate over all columns\n",
    "3. If any points = 1, we plot a yellow point (s = 500 is the size, edgecolours black gives it a black outline\n",
    "4. Similarly for -1, we plot a red point\n",
    "5. Add a few plot controls such as a grid and axis limits\n",
    "6. Show the plot"
   ]
  },
  {
   "cell_type": "code",
   "execution_count": 4,
   "metadata": {},
   "outputs": [],
   "source": [
    "def plot_board(board):\n",
    "    ''' This function reads a saved board and plots Red and Yellow tokens in their correct positions\n",
    "\n",
    "    Input: Numpy Array of Shape(6,7) containing:\n",
    "\n",
    "    1 represents yellow tokens\n",
    "    -1 represents red tokens\n",
    "    0 represents an open space\n",
    "\n",
    "    Returns:\n",
    "    Shows a plot of the current board\n",
    "    '''\n",
    "    \n",
    "    # Create New Figure\n",
    "    plt.figure() \n",
    "    \n",
    "    # Iterate over all board rows\n",
    "    for row in range(board.shape[0]):\n",
    "        \n",
    "        # Iterate over all board rows\n",
    "        for col in range(board.shape[1]):\n",
    "            \n",
    "            # Plot all tokens that = 1 as yellow\n",
    "            if board[5-row][col] == 1:\n",
    "                plt.scatter(col, row, c='Yellow', s=500, edgecolors='black')\n",
    "            \n",
    "            # Plot all tokens that = -1 as red\n",
    "            if board[5-row][col] == -1:\n",
    "                plt.scatter(col, row, c='Red', s=500, edgecolors='black')\n",
    "    \n",
    "    plot_margin = 0.4                         # Padding around edges\n",
    "    plt.grid()                                # Turn on grid\n",
    "    plt.ylim(-plot_margin, 5 + plot_margin)   # Set Y Limits\n",
    "    plt.xlim(-plot_margin, 6 + plot_margin)   # Set X Limits\n",
    "    plt.show()                                # Show Plot"
   ]
  },
  {
   "cell_type": "markdown",
   "metadata": {},
   "source": [
    "#### Step 5 - Plot The Final Board\n",
    "\n",
    "Let's simply call the function we have just made to make sure it works"
   ]
  },
  {
   "cell_type": "code",
   "execution_count": 5,
   "metadata": {},
   "outputs": [
    {
     "data": {
      "image/png": "[encoded data removed]",
      "text/plain": [
       "<Figure size 432x288 with 1 Axes>"
      ]
     },
     "metadata": {},
     "output_type": "display_data"
    }
   ],
   "source": [
    "# Plot Board\n",
    "plot_board(final_board)"
   ]
  },
  {
   "cell_type": "markdown",
   "metadata": {},
   "source": [
    "#### Step 6 - Check Final Round + 1\n",
    "\n",
    "To make sure our function to get the last round worked properly, lets plot the final round + 1. Hopefully it's blank"
   ]
  },
  {
   "cell_type": "code",
   "execution_count": 6,
   "metadata": {},
   "outputs": [
    {
     "data": {
      "image/png": "[encoded data removed]",
      "text/plain": [
       "<Figure size 432x288 with 1 Axes>"
      ]
     },
     "metadata": {},
     "output_type": "display_data"
    }
   ],
   "source": [
    "# Assign the final board\n",
    "final_board = current_game[round + 1]\n",
    "\n",
    "# Plot Board\n",
    "plot_board(final_board)"
   ]
  },
  {
   "cell_type": "markdown",
   "metadata": {},
   "source": [
    "#### Step 7 - Check Final Round - 1\n",
    "\n",
    "We can also check round-1, which should be 1 set of moves before the round shown in step 5"
   ]
  },
  {
   "cell_type": "code",
   "execution_count": 7,
   "metadata": {},
   "outputs": [
    {
     "data": {
      "image/png": "[encoded data removed]",
      "text/plain": [
       "<Figure size 432x288 with 1 Axes>"
      ]
     },
     "metadata": {},
     "output_type": "display_data"
    }
   ],
   "source": [
    "# Assign the final board\n",
    "final_board = current_game[round - 1]\n",
    "\n",
    "# Plot Board\n",
    "plot_board(final_board)"
   ]
  },
  {
   "cell_type": "markdown",
   "metadata": {},
   "source": [
    "#### Done!\n",
    "\n",
    "Great, now we can go onto Part 3!\n",
    "\n",
    "In Part 3 we are going to make a small modification to the original bot to speed up the training process so that it chooses a winning move if it has the opportunity to.\n",
    "\n",
    "If you want to copy and paste the entire code, here it is: (Note a few comments have been removed)"
   ]
  },
  {
   "cell_type": "code",
   "execution_count": 8,
   "metadata": {},
   "outputs": [
    {
     "data": {
      "image/png": "[encoded data removed]",
      "text/plain": [
       "<Figure size 432x288 with 1 Axes>"
      ]
     },
     "metadata": {},
     "output_type": "display_data"
    }
   ],
   "source": [
    "'''\n",
    "AI Learns to Play Connect 4\n",
    "Part 2 - Reading Saved Game Files\n",
    "Jordan Yeomans - 2018\n",
    "'''\n",
    "\n",
    "import numpy as np\n",
    "import matplotlib.pyplot as plt\n",
    "import os\n",
    "\n",
    "def plot_board(board):\n",
    "    ''' This function reads a saved board and plots Red and Yellow tokens in their correct positions\n",
    "\n",
    "    Input: Numpy Array of Shape(6,7) containing:\n",
    "\n",
    "    1 represents yellow tokens\n",
    "    -1 represents red tokens\n",
    "    0 represents an open space\n",
    "\n",
    "    Returns:\n",
    "    Shows a plot of the current board\n",
    "    '''\n",
    "\n",
    "    plt.figure()\n",
    "    for row in range(board.shape[0]):\n",
    "        for col in range(board.shape[1]):\n",
    "            if board[5-row][col] == 1:\n",
    "                plt.scatter(col, row, c='Yellow', s=500, edgecolors='black')\n",
    "\n",
    "            if board[5-row][col] == -1:\n",
    "                plt.scatter(col, row, c='Red', s=500, edgecolors='black')\n",
    "\n",
    "    plot_margin = 0.4                         # Padding around edges\n",
    "    plt.grid()                                # Turn on grid\n",
    "    plt.ylim(-plot_margin, 5 + plot_margin)   # Set Y Limits\n",
    "    plt.xlim(-plot_margin, 6 + plot_margin)   # Set X Limits\n",
    "    plt.show()                                # Show Plot\n",
    "\n",
    "# Parameters for us to change\n",
    "folder = './Games/'\n",
    "game_num_to_plot = 0\n",
    "round_to_plot = 9\n",
    "\n",
    "games = os.listdir(folder)\n",
    "current_game = np.load(folder + games[game_num_to_plot])\n",
    "\n",
    "# Find last round\n",
    "for round in range(current_game.shape[0]):\n",
    "    current_game_abs = np.abs(current_game[round])\n",
    "    current_game_sum = np.sum(current_game_abs)\n",
    "    if current_game_sum == 0:\n",
    "        round -= 1\n",
    "        break\n",
    "\n",
    "# Get final board\n",
    "final_board = current_game[round]\n",
    "\n",
    "# Plot the final board\n",
    "plot_board(final_board)"
   ]
  },
  {
   "cell_type": "code",
   "execution_count": null,
   "metadata": {},
   "outputs": [],
   "source": []
  }
 ],
 "metadata": {
  "kernelspec": {
   "display_name": "Python 3",
   "language": "python",
   "name": "python3"
  },
  "language_info": {
   "codemirror_mode": {
    "name": "ipython",
    "version": 3
   },
   "file_extension": ".py",
   "mimetype": "text/x-python",
   "name": "python",
   "nbconvert_exporter": "python",
   "pygments_lexer": "ipython3",
   "version": "3.6.4"
  }
 },
 "nbformat": 4,
 "nbformat_minor": 2
}
