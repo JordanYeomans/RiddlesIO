{
 "cells": [
  {
   "cell_type": "markdown",
   "metadata": {},
   "source": [
    "# AI Learns to Play Connect 4\n",
    "#### Jordan Yeomans - 2018\n",
    "\n",
    "## Part 3 - Make A Winning Move\n",
    "\n",
    "### What's Next?\n",
    "\n",
    "I noticed that the bot's playing randomly made some pretty dumb moves, which makes sense. But to speed up the training process I wanted to include 1 modification. If the bot can find a winning move, lets make that move.\n",
    "\n",
    "Maybe a bit later down the track we can learn to play from absolute scratch!\n",
    "\n",
    "These changes are to the bot file riddles.io is using to playy. In particular we are changing the function: Skip to the end to copy and paste the entire thing! You'll also need to add the connect 4 function (Step 6).\n",
    "\n",
    "- make_move(state)\n",
    "\n",
    "#### Step 1: Record Data\n",
    "\n",
    "Just like in part 1, we need to record the historical data during each move. We check the state.round, and if it is 0 we need top make a new historical file. If not, we can load the current file.\n",
    "\n",
    "I know this isn't the most efficient way (Saving/Loading everytime) but since they are so small it works fine\n",
    "\n",
    "PS. For this document I have split the function into different parts so that the notebook is easier to read and complies. In the actual code this is 1 function"
   ]
  },
  {
   "cell_type": "code",
   "execution_count": 1,
   "metadata": {},
   "outputs": [],
   "source": [
    "def make_move(state):\n",
    "    \n",
    "    # Convert field state into a numpy array\n",
    "    field_state = np.array(state.field.field_state)\n",
    "\n",
    "    # Recording Data\n",
    "    if state.round == 0:\n",
    "        game_history = np.zeros((30, 6, 7))\n",
    "    else:\n",
    "        game_history = np.load(state.name)\n",
    "    \n",
    "    ## Record Game History. 1 = Yellow Tokens, -1 = Red Tokens, 0 = Empty Spot\n",
    "    # Iterate over all rows\n",
    "    for row in range(6):\n",
    "        yellow_idx = np.where(field_state[row] == '1')[0]\n",
    "        red_idx = np.where(field_state[row] == '0')[0]\n",
    "\n",
    "        game_history[state.round][row][yellow_idx] = 1\n",
    "        game_history[state.round][row][red_idx] = -1"
   ]
  },
  {
   "cell_type": "markdown",
   "metadata": {},
   "source": [
    "#### Step 2: Chose A Random Valid Move\n",
    "\n",
    "We aren't sure if we can win yet, but if we can't we still need to make a move. At this stage lets choose a random column that is valid (top position is empty)\n",
    "\n",
    "Then, if we can win, we can change our mind and place the token in that column.\n",
    "\n",
    "1. Find the places in the top row that are empty\n",
    "2. Shuffle the index's randomly\n",
    "3. Select the first index as the randomly chosen, valid, column"
   ]
  },
  {
   "cell_type": "code",
   "execution_count": 2,
   "metadata": {},
   "outputs": [],
   "source": [
    "def make_move_p1():\n",
    "    \n",
    "    # Choose a random move out of all valid columns\n",
    "    valid_idx = np.where(game_history[state.round][0] == 0)[0]\n",
    "    np.random.shuffle(valid_idx)\n",
    "    move = valid_idx[0]"
   ]
  },
  {
   "cell_type": "markdown",
   "metadata": {},
   "source": [
    "#### Step 3: Work Out Who Moved First\n",
    "\n",
    "Before we move, we should see if we can win this. Before we can do that, we need to know who's turn it is. Since the game doesn't say who's turn it is we need to figure it out ourselves.\n",
    "\n",
    "If the state.round = 1 we can check how many tokens are on the board, and what number they add up to. From that, we can figure out who's turn it is.\n",
    "\n",
    "Remember, this bot needs to work with playing as both red and yellow."
   ]
  },
  {
   "cell_type": "code",
   "execution_count": 3,
   "metadata": {},
   "outputs": [],
   "source": [
    "def make_move_p2():\n",
    "    \n",
    "    ## Before we move, let's check if there is a move we can make to win!\n",
    "    \n",
    "    # 1. Determine who moved first\n",
    "    if state.round == 1:\n",
    "        token_idx = np.where(field_state[5] != '.')[0]\n",
    "        r1_tokens = np.array(field_state[5][token_idx]).astype(float)\n",
    "\n",
    "        if np.sum(r1_tokens) == 1 and r1_tokens.shape[0] == 2:    # Red First, Red See's\n",
    "            state.first = 'Red'\n",
    "        elif np.sum(r1_tokens) == 1 and r1_tokens.shape[0] == 3:  # Red First, Yellow See's\n",
    "            state.first = 'Red'\n",
    "\n",
    "        elif np.sum(r1_tokens) == 1 and r1_tokens.shape[0] == 1:  # Yellow First, Red See's\n",
    "            state.first = 'Yellow'\n",
    "        elif np.sum(r1_tokens) == 2 and r1_tokens.shape[0] == 3:  # Yellow First, Yellow See's\n",
    "            state.first = 'Yellow'"
   ]
  },
  {
   "cell_type": "markdown",
   "metadata": {},
   "source": [
    "#### Step 4: Determine Who's Turn It Is\n",
    "\n",
    "If we add up the sum of the board history for the current round and count the tokens we can figure out who's turn it is.\n",
    "\n",
    "1. If the Sum is -1: There is more Red Tokens on the board, therefore it it yellow's turn\n",
    "2. If the Sum is 0, and Yellow moved first: There is an even number of tokens on the board, and yellow was first, so it's yellow's turn\n",
    "3. If Sum is 0, and red moved first: Same as 2. except red was first, so it's red's turn\n",
    "\n",
    "We want to make a new board that represents what the current player is seeing regardless of being red or yellow. We will call this the me_board and a 1 is the view of the bot and -1 is the enemy. We will make the me_board next"
   ]
  },
  {
   "cell_type": "code",
   "execution_count": 4,
   "metadata": {},
   "outputs": [],
   "source": [
    "def make_move_p3():\n",
    "    \n",
    "    # 2. Determine who's turn it is\n",
    "    # If sum = -1, More Red Tokens -> Yellows's turn\n",
    "    if np.sum(game_history[state.round]) == -1:\n",
    "        me_idx = np.where(game_history[state.round] == 1)     \n",
    "        enemy_idx = np.where(game_history[state.round] == -1)\n",
    "\n",
    "    # If sum = 0 -> Even # Tokens & Yellow moved first --> Mean's it's Yellow's turn\n",
    "    elif np.sum(game_history[state.round]) == 0 and state.first == 'Yellow':\n",
    "        me_idx = np.where(game_history[state.round] == 1)\n",
    "\n",
    "        enemy_idx = np.where(game_history[state.round] == -1)\n",
    "    # If sum = 0, Even # Tokens & Red moved first\n",
    "    elif np.sum(game_history[state.round]) == 0:\n",
    "        me_idx = np.where(game_history[state.round] == -1)\n",
    "        enemy_idx = np.where(game_history[state.round] == 1)"
   ]
  },
  {
   "cell_type": "markdown",
   "metadata": {},
   "source": [
    "#### Step 5: Create The Me Board\n",
    "\n",
    "Since this code is meant to play as both red and yellow players, we need to know what the current player is seeing. We have stored the index's of the current players tokens stored as a 1. The enemy tokens are stored as a -1\n",
    "\n",
    "1. Make a new board of zero's\n",
    "2. Assign all me-indexs as 1\n",
    "3. Assign all enemy indexes as -1\n"
   ]
  },
  {
   "cell_type": "code",
   "execution_count": 5,
   "metadata": {},
   "outputs": [],
   "source": [
    "def make_move_p4():\n",
    "    \n",
    "    # 2. Organise the board so that 1 = Me, -1 = Enemy.\n",
    "    me_board = np.zeros_like(game_history[state.round])\n",
    "    me_board[me_idx] = 1\n",
    "    me_board[enemy_idx] = -1"
   ]
  },
  {
   "cell_type": "markdown",
   "metadata": {},
   "source": [
    "#### Step 6: Create A Connect 4 Function\n",
    "\n",
    "Before we can find a winning column, we need to make a function to determine a winning move!\n",
    "\n",
    "Let's make a function that determines if the board provided contains connect 4.\n",
    "\n",
    "1. Set a win-flag to False, this will be turned to True if we find a winning move which can be returned\n",
    "\n",
    "2. Check the diagonal (Bottom Left -> Top Right). To do so, we iterate over all options for p1 and the corresponding points p2, p3, p4. We can then sum p1, p2, p3, p4 together and if the sum is 4, we have connect 4!\n",
    "\n",
    "3. Do the same for the opposite diagonal\n",
    "4. Check if any row's win\n",
    "5. Check if any columns win\n",
    "\n",
    "It might be easier to see a picture of the index's we are checking. For anyone new to python, index's start at 0 so the \"first\" column would be index 0."
   ]
  },
  {
   "cell_type": "code",
   "execution_count": 11,
   "metadata": {},
   "outputs": [
    {
     "data": {
      "text/html": [
       "<img src=\"https://i.imgur.com/w3UoVtp.png\" width=\"800\"/>"
      ],
      "text/plain": [
       "<IPython.core.display.Image object>"
      ]
     },
     "execution_count": 11,
     "metadata": {},
     "output_type": "execute_result"
    }
   ],
   "source": [
    "from IPython.display import Image\n",
    "from IPython.core.display import HTML \n",
    "\n",
    "Image(url= \"https://i.imgur.com/w3UoVtp.png\", width=800)"
   ]
  },
  {
   "cell_type": "markdown",
   "metadata": {},
   "source": [
    "##### For anyone unfamiliar with Numpy array's\n",
    "Notice the notation to access the columns. It can be a bit tricky. It took me a while to get to the point I didn't need to google everytime!\n",
    "\n",
    "section = board[:, col][p1:p4+1]\n",
    "\n",
    "With this command we are saying: \n",
    "1. board -> From The Board\n",
    "2. [ : , col] -> [Give me all rows : ,  For Column #]\n",
    "3. [p1:p4+1] -> [Now From that Array, give me Index P1 up to P4]\n",
    "\n"
   ]
  },
  {
   "cell_type": "code",
   "execution_count": 6,
   "metadata": {},
   "outputs": [],
   "source": [
    "def four_in_a_row(board):\n",
    "\n",
    "    win_flag = False\n",
    "\n",
    "    # Check Diagonal (P1 = Bottom Left - P4 = Top Right)\n",
    "    for p1_col in range(4):\n",
    "        p2_col = p1_col + 1\n",
    "        p3_col = p2_col + 1\n",
    "        p4_col = p3_col + 1\n",
    "\n",
    "        for p1_row in range(3, 6):\n",
    "            p2_row = p1_row - 1\n",
    "            p3_row = p2_row - 1\n",
    "            p4_row = p3_row - 1\n",
    "\n",
    "            p1 = board[p1_row][p1_col]\n",
    "            p2 = board[p2_row][p2_col]\n",
    "            p3 = board[p3_row][p3_col]\n",
    "            p4 = board[p4_row][p4_col]\n",
    "\n",
    "            if np.sum([p1, p2, p3, p4]) == 4:\n",
    "                win_flag = True\n",
    "\n",
    "    # Check Diagonal (P1 = Top Left - P4 = Bottom Right)\n",
    "    for p1_col in range(3):\n",
    "        p2_col = p1_col + 1\n",
    "        p3_col = p2_col + 1\n",
    "        p4_col = p3_col + 1\n",
    "\n",
    "        for p1_row in range(3):\n",
    "            p2_row = p1_row + 1  # Careful, we swap sign to +\n",
    "            p3_row = p2_row + 1  # Careful, we swap sign to +\n",
    "            p4_row = p3_row + 1  # Careful, we swap sign to +\n",
    "\n",
    "            p1 = board[p1_row][p1_col]\n",
    "            p2 = board[p2_row][p2_col]\n",
    "            p3 = board[p3_row][p3_col]\n",
    "            p4 = board[p4_row][p4_col]\n",
    "\n",
    "            if np.sum([p1, p2, p3, p4]) == 4:\n",
    "                win_flag = True\n",
    "\n",
    "    # Check for row win\n",
    "    for row in range(board.shape[0]):\n",
    "        for p1 in range(4):\n",
    "            p4 = p1 + 3\n",
    "            section = board[row][p1:p4+1]\n",
    "            if np.sum(section) == 4:\n",
    "                win_flag = True\n",
    "\n",
    "    # Check for column win\n",
    "    for col in range(board.shape[1]):\n",
    "        for p1 in range(3):\n",
    "            p4 = p1 + 3\n",
    "            section = board[:, col][p1:p4+1]\n",
    "            if np.sum(section) == 4:\n",
    "                win_flag = True\n",
    "\n",
    "    return win_flag"
   ]
  },
  {
   "cell_type": "markdown",
   "metadata": {},
   "source": [
    "#### Step 7: Check If Any Moves Would Win\n",
    "\n",
    "Now we have a function to determine if a particular board Contains connect 4 (From the view of the current player only) let's see if we can win this game\n",
    "\n",
    "1. Iterate over all valid columns\n",
    "2. Redcord all the empty rows in that column\n",
    "3. Get the maximum row index, that is going to be the lowest position. Place a token in this position\n",
    "4. Send the board to the connect 4 function\n",
    "5. If the win_flag is True, that placing a token in that column will win the game. Break the function and let's make that move\n",
    "\n",
    "\n",
    "If there is no winning moves, we will keep the move we calculated at the very beginning. Before we do, we need to save the game_history"
   ]
  },
  {
   "cell_type": "code",
   "execution_count": 7,
   "metadata": {},
   "outputs": [],
   "source": [
    "def make_move_p5():\n",
    "    \n",
    "    # 3. Check if any columns are winning columns:\n",
    "    for col_idx in valid_idx:\n",
    "        row_idx = np.where(me_board[:, col_idx] == 0)[0]\n",
    "        row_idx = np.max(row_idx)\n",
    "        me_board[row_idx][col_idx] = 1\n",
    "        win_flag = four_in_a_row(me_board)\n",
    "        if win_flag is True:\n",
    "            move = col_idx\n",
    "            break\n",
    "\n",
    "    np.save(state.name, game_history)\n",
    "\n",
    "    return 'place_disc {}'.format(move)"
   ]
  },
  {
   "cell_type": "markdown",
   "metadata": {},
   "source": [
    "#### Part 4 Is Next - Organising The Data For A Neural Network\n",
    "\n",
    "Before we go, here is the complete code for the make_move() function. You can copy this to your bot file"
   ]
  },
  {
   "cell_type": "code",
   "execution_count": 8,
   "metadata": {},
   "outputs": [],
   "source": [
    "def make_move(state):\n",
    "\n",
    "    # Convert field state into a numpy array\n",
    "    field_state = np.array(state.field.field_state)\n",
    "\n",
    "    # Recording Data\n",
    "    if state.round == 0:\n",
    "        game_history = np.zeros((30, 6, 7))\n",
    "    else:\n",
    "        game_history = np.load(state.name)\n",
    "\n",
    "    ## Record Game History. 1 = Yellow Tokens, -1 = Red Tokens, 0 = Empty Spot\n",
    "    # Iterate over all rows\n",
    "    for row in range(6):\n",
    "        yellow_idx = np.where(field_state[row] == '1')[0]\n",
    "        red_idx = np.where(field_state[row] == '0')[0]\n",
    "\n",
    "        game_history[state.round][row][yellow_idx] = 1\n",
    "        game_history[state.round][row][red_idx] = -1\n",
    "\n",
    "    # Choose a random move out of all valid columns\n",
    "    valid_idx = np.where(game_history[state.round][0] == 0)[0]\n",
    "    np.random.shuffle(valid_idx)\n",
    "    move = valid_idx[0]\n",
    "\n",
    "    # Determine who moved first\n",
    "    if state.round == 1:\n",
    "        token_idx = np.where(field_state[5] != '.')[0]\n",
    "        r1_tokens = np.array(field_state[5][token_idx]).astype(float)\n",
    "\n",
    "        if np.sum(r1_tokens) == 1 and r1_tokens.shape[0] == 2:    # Red First, Red See's\n",
    "            state.first = 'Red'\n",
    "        elif np.sum(r1_tokens) == 1 and r1_tokens.shape[0] == 3:  # Red First, Yellow See's\n",
    "            state.first = 'Red'\n",
    "\n",
    "        elif np.sum(r1_tokens) == 1 and r1_tokens.shape[0] == 1:  # Yellow First, Red See's\n",
    "            state.first = 'Yellow'\n",
    "        elif np.sum(r1_tokens) == 2 and r1_tokens.shape[0] == 3:  # Yellow First, Yellow See's\n",
    "            state.first = 'Yellow'\n",
    "\n",
    "        if state.first is None:\n",
    "            print(np.sum(r1_tokens))\n",
    "\n",
    "    ## Before we move, let's check if there is a move we can make to win!\n",
    "    \n",
    "    # 1. Determine who's turn it is\n",
    "    # If sum = -1, More Yellow Tokens -> Red's turn\n",
    "    if np.sum(game_history[state.round]) == -1:\n",
    "        me_idx = np.where(game_history[state.round] == 1)     # These might be wrong\n",
    "        enemy_idx = np.where(game_history[state.round] == -1) # These might be wrong\n",
    "\n",
    "    # If sum = 0 -> Even # Tokens & Yellow moved first --> Mean's it's Yellow's turn\n",
    "    elif np.sum(game_history[state.round]) == 0 and state.first == 'Yellow':\n",
    "        me_idx = np.where(game_history[state.round] == 1)\n",
    "\n",
    "        enemy_idx = np.where(game_history[state.round] == -1)\n",
    "    # If sum = 0, Even # Tokens & Red moved first\n",
    "    elif np.sum(game_history[state.round]) == 0:\n",
    "        me_idx = np.where(game_history[state.round] == -1)\n",
    "        enemy_idx = np.where(game_history[state.round] == 1)\n",
    "\n",
    "    # 2. Organise the board so that 1 = Me, -1 = Enemy.\n",
    "    me_board = np.zeros_like(game_history[state.round])\n",
    "    me_board[me_idx] = 1\n",
    "    me_board[enemy_idx] = -1\n",
    "\n",
    "    # 3. Check if any columns are winning columns:\n",
    "    for col_idx in valid_idx:\n",
    "        row_idx = np.where(me_board[:, col_idx] == 0)[0]\n",
    "        row_idx = np.max(row_idx)\n",
    "        me_board[row_idx][col_idx] = 1\n",
    "        win_flag = four_in_a_row(me_board)\n",
    "        if win_flag is True:\n",
    "            move = col_idx\n",
    "            break\n",
    "\n",
    "    np.save(state.name, game_history)\n",
    "\n",
    "    return 'place_disc {}'.format(move)"
   ]
  },
  {
   "cell_type": "code",
   "execution_count": null,
   "metadata": {},
   "outputs": [],
   "source": []
  }
 ],
 "metadata": {
  "kernelspec": {
   "display_name": "Python 3",
   "language": "python",
   "name": "python3"
  },
  "language_info": {
   "codemirror_mode": {
    "name": "ipython",
    "version": 3
   },
   "file_extension": ".py",
   "mimetype": "text/x-python",
   "name": "python",
   "nbconvert_exporter": "python",
   "pygments_lexer": "ipython3",
   "version": "3.6.4"
  }
 },
 "nbformat": 4,
 "nbformat_minor": 2
}
