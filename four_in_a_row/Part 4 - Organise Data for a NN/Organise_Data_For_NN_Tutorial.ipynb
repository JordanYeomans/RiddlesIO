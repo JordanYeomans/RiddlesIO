{
 "cells": [
  {
   "cell_type": "markdown",
   "metadata": {},
   "source": [
    "# AI Learns to Play Connect 4\n",
    "#### Jordan Yeomans - 2018\n",
    "\n",
    "## Part 4 - Organise Data For NN\n",
    "\n",
    "### What's Next?\n",
    "\n",
    "At the moment we have a bot that is playing against itself randomly except that if it can make a winning move, it will make that move. For each game that is played we are saving the data as a historical record. Both the Red and Yellow bot is saving it's own version of events.\n",
    "\n",
    "From here we want to organise the data so it is in a form that is easy to put through a neural network.\n",
    "\n",
    "We will go through each game and determine who won that game. We will then assume that the moves that the winning player made were the better moves.\n",
    "\n",
    "We can then train a neural network to (hopefully) replicate the moves of the winning player! If successful, it should be able to reliably beat a randomly playing bot.\n",
    "\n",
    "Essentially we want to save 2 files\n",
    "- Neural Network Input Data of shape (Samples, Current Board Rows, Current Board Columns)\n",
    "- Neural Network Output Data of Shape (Samples, Next Move Column)\n",
    "\n",
    "#### Step 1 - Define A Few Parameters And Variables\n",
    "\n",
    "##### Parameters\n",
    "\n",
    "- Total games: The number of games we want to iterate over\n",
    "\n",
    "##### Variables\n",
    "\n",
    "- Move_Count: Total number of samples we have recorded\n",
    "- Total_dud_rounds: I found some rounds are half finished, not sure why, but we can ignore them\n",
    "- Move_history_input: Input Data for the NN\n",
    "- Mode_history_output: Output Data for the NN\n",
    "\n",
    "##### Filepaths\n",
    "\n",
    "- red_load_folder: Location of the games stored by the red bot\n",
    "- yellow_load_folder: Location of the games strored by the yellow bot\n",
    "- save_folder: Location for the Neural Network data to be saved\n",
    "\n",
    "At this stage, we will go through 1 game without an iteration loop. I'll include the final code at the bottom"
   ]
  },
  {
   "cell_type": "code",
   "execution_count": 1,
   "metadata": {},
   "outputs": [],
   "source": [
    "import numpy as np\n",
    "import time\n",
    "import matplotlib.pyplot as plt\n",
    "import os\n",
    "%matplotlib inline\n",
    "\n",
    "# Parameters\n",
    "total_games = 1000\n",
    "\n",
    "# Variables\n",
    "move_count = 0\n",
    "total_dud_rounds = 0\n",
    "move_history_input = np.zeros((total_games * 30, 6, 7))\n",
    "move_history_output = np.zeros((total_games * 30, 7, 1))\n",
    "\n",
    "# Filepaths\n",
    "red_load_folder = './Red_Games/'\n",
    "yellow_load_folder = './Yellow_Games/'\n",
    "save_folder = './Processed_Games/'"
   ]
  },
  {
   "cell_type": "markdown",
   "metadata": {},
   "source": [
    "#### Step 2 - Get A List Of All Games\n",
    "\n",
    "It is important that the folders for red and yellow games only contain game files. Also there needs to be an equal number of red and yellow games files with the names matching\n",
    "\n",
    "An assert command can check that the number of files is equal\n",
    "\n",
    "We also check if the total number of games is greater than what is avaliable. If so, reduce the total to the number avaliable and warn the user\n"
   ]
  },
  {
   "cell_type": "code",
   "execution_count": 2,
   "metadata": {},
   "outputs": [
    {
     "name": "stdout",
     "output_type": "stream",
     "text": [
      "Warning: Restricting total games from 1000 to 10\n"
     ]
    }
   ],
   "source": [
    "all_games_red = os.listdir(red_load_folder)\n",
    "all_games_yellow = os.listdir(yellow_load_folder)\n",
    "\n",
    "assert len(all_games_red) == len(all_games_yellow)\n",
    "\n",
    "if total_games > len(all_games_red):\n",
    "    print('Warning: Restricting total games from {} to {}'.format(total_games, len(all_games_red)))\n",
    "    total_games = len(all_games_red)"
   ]
  },
  {
   "cell_type": "markdown",
   "metadata": {},
   "source": [
    "#### Copy Paste Functions:\n",
    "\n",
    "We defined two functions in previous sections.\n",
    "\n",
    "- Find Last Round (Part 2)\n",
    "- Plot Board (Part 2)"
   ]
  },
  {
   "cell_type": "code",
   "execution_count": 3,
   "metadata": {},
   "outputs": [],
   "source": [
    "def find_last_round(board):\n",
    "    for round in range(1, board.shape[0]):  # Skip first round (Sum is 0 for the first player's first move)\n",
    "        board_abs = np.abs(board[round])\n",
    "        board_sum = np.sum(board_abs)\n",
    "\n",
    "        if board_sum == 0:\n",
    "            last_round = round - 1\n",
    "            break\n",
    "\n",
    "    return last_round"
   ]
  },
  {
   "cell_type": "code",
   "execution_count": 4,
   "metadata": {},
   "outputs": [],
   "source": [
    "def plot_board(board):\n",
    "    plt.figure()\n",
    "    for row in range(board.shape[0]):\n",
    "        for col in range(board.shape[1]):\n",
    "            if board[5-row][col] == 1:\n",
    "                plt.scatter(col, row, c='Yellow', s=500, edgecolors='black')\n",
    "\n",
    "            if board[5-row][col] == -1:\n",
    "                plt.scatter(col, row, c='Red', s=500, edgecolors='black')\n",
    "    plt.grid()\n",
    "    plt.ylim(-1, 6)\n",
    "    plt.xlim(-1, 7)\n",
    "    plt.show()"
   ]
  },
  {
   "cell_type": "markdown",
   "metadata": {},
   "source": [
    "#### Step 3 - Get The Final Board\n",
    "\n",
    "Since we have 2 copies of the same game (One from the Red Player and another from the Yellow Player) we need to work out who's has the most data.\n",
    "\n",
    "1. Load both the red and yellow players history\n",
    "2. Find the final round for each (Using function) and find which player's record is longer\n",
    "3. Keep a record of the longer game. We need to use .copy() for this\n",
    "4. Keep a record of who's turn it is next for each round that we are looking at. If we are using the yellow players record then it must be the yellow players turn\n",
    "5. Record the token index for both the red and yellow players\n",
    "\n"
   ]
  },
  {
   "cell_type": "code",
   "execution_count": 5,
   "metadata": {},
   "outputs": [
    {
     "name": "stdout",
     "output_type": "stream",
     "text": [
      "Next Turn = red\n",
      "Total Rounds = 3\n",
      "\n",
      " Final Board Array: \n",
      " [[ 0.  0.  0.  0.  0.  0.  0.]\n",
      " [ 0.  0.  0.  0.  0.  0.  0.]\n",
      " [ 0.  0.  0.  0.  0.  0.  0.]\n",
      " [ 0.  0.  0.  0.  0.  0.  0.]\n",
      " [ 1.  0.  0.  0.  0.  0.  0.]\n",
      " [-1.  0. -1. -1.  1.  0.  1.]]  \n",
      "\n",
      " Current Board Plot\n"
     ]
    },
    {
     "data": {
      "image/png": "[encoded data removed]",
      "text/plain": [
       "<Figure size 432x288 with 1 Axes>"
      ]
     },
     "metadata": {},
     "output_type": "display_data"
    }
   ],
   "source": [
    "game_num = 0\n",
    "\n",
    "# Load Red and Yellow player's history\n",
    "board_red = np.load(red_load_folder + all_games_red[game_num])\n",
    "board_yellow = np.load(yellow_load_folder + all_games_yellow[game_num])\n",
    "\n",
    "# Find Longest Round\n",
    "last_round_yellow = find_last_round(board_yellow)\n",
    "last_round_red = find_last_round(board_red)\n",
    "last_round = np.maximum(last_round_yellow, last_round_red)\n",
    "\n",
    "# Keep a copy of the last board\n",
    "if last_round_yellow == last_round:\n",
    "    final_board = board_yellow[last_round]\n",
    "    board = board_yellow.copy()\n",
    "    next_turn = 'yellow'\n",
    "elif last_round_red == last_round:\n",
    "    final_board = board_red[last_round]\n",
    "    board = board_red.copy()\n",
    "    next_turn = 'red'\n",
    "\n",
    "# Keep a Copy of Yellow and Red Tokens\n",
    "yellow_idx = np.where(final_board == 1)\n",
    "red_idx = np.where(final_board == -1)\n",
    "\n",
    "print('Next Turn = {}'.format(next_turn))\n",
    "print('Total Rounds = {}'.format(last_round))\n",
    "print('\\n Final Board Array: \\n {}  '.format(final_board))\n",
    "print('\\n Current Board Plot')\n",
    "plot_board(final_board)"
   ]
  },
  {
   "cell_type": "markdown",
   "metadata": {},
   "source": [
    "#### Copy Paste Functions:\n",
    "\n",
    "We defined another two functions in previous sections.\n",
    "\n",
    "- Find Winning Moves (Part 3)\n",
    "- Four In A Row (Part 3)\n",
    "\n",
    "There is a slight modification. find_winning_moves, now returns all moves that win"
   ]
  },
  {
   "cell_type": "code",
   "execution_count": 6,
   "metadata": {},
   "outputs": [],
   "source": [
    "def find_winning_moves(board):\n",
    "\n",
    "    move_idx = []                                       # List to hold any winning moves\n",
    "    valid_cols = np.where(board[0] == 0)[0]             # Calculate valid columns we can put token in\n",
    "    win_flag = False\n",
    "    any_win_flag = False\n",
    "\n",
    "    # Iterate over all valid columns\n",
    "    for col in valid_cols:\n",
    "        new_board = board.copy()                        # Copy the current board to a new board\n",
    "        row_options = np.where(board[:, col] == 0)[0]   # For each column, calc which rows are empty\n",
    "        lowest_row = np.max(row_options)                # The lowest row will be the maximum index row\n",
    "        new_board[lowest_row][col] = 1                  # Put a token in the new position\n",
    "\n",
    "        win_flag = four_in_a_row(new_board)             # Check if this play would win the game. Win_flag will be true if so\n",
    "\n",
    "        # If Win, record column as a winning play\n",
    "        if win_flag is True:\n",
    "            any_win_flag = True\n",
    "            move_idx.append(col)                        # Add the win to the list of possible winning moves\n",
    "\n",
    "    return any_win_flag, np.array(move_idx)             # Convert list of possible moves to a numpy array\n",
    "\n",
    "def four_in_a_row(board):\n",
    "\n",
    "    win_flag = False\n",
    "\n",
    "    # Check Diagonal (P1 = Bottom Left - P4 = Top Right)\n",
    "    for p1_col in range(4):\n",
    "        p2_col = p1_col + 1\n",
    "        p3_col = p2_col + 1\n",
    "        p4_col = p3_col + 1\n",
    "\n",
    "        for p1_row in range(3, 6):\n",
    "            p2_row = p1_row - 1\n",
    "            p3_row = p2_row - 1\n",
    "            p4_row = p3_row - 1\n",
    "\n",
    "            p1 = board[p1_row][p1_col]\n",
    "            p2 = board[p2_row][p2_col]\n",
    "            p3 = board[p3_row][p3_col]\n",
    "            p4 = board[p4_row][p4_col]\n",
    "\n",
    "            if np.sum([p1, p2, p3, p4]) == 4:\n",
    "                win_flag = True\n",
    "\n",
    "    # Check Diagonal (P1 = Top Left - P4 = Bottom Right)\n",
    "    for p1_col in range(3):\n",
    "        p2_col = p1_col + 1\n",
    "        p3_col = p2_col + 1\n",
    "        p4_col = p3_col + 1\n",
    "\n",
    "        for p1_row in range(3):\n",
    "            p2_row = p1_row + 1  # Careful, we swap sign to +\n",
    "            p3_row = p2_row + 1  # Careful, we swap sign to +\n",
    "            p4_row = p3_row + 1  # Careful, we swap sign to +\n",
    "\n",
    "            p1 = board[p1_row][p1_col]\n",
    "            p2 = board[p2_row][p2_col]\n",
    "            p3 = board[p3_row][p3_col]\n",
    "            p4 = board[p4_row][p4_col]\n",
    "\n",
    "            if np.sum([p1, p2, p3, p4]) == 4:\n",
    "                win_flag = True\n",
    "\n",
    "    # Check for row win\n",
    "    for row in range(board.shape[0]):\n",
    "        for p1 in range(4):\n",
    "            p4 = p1 + 3\n",
    "\n",
    "            section = board[row][p1:p4+1]\n",
    "\n",
    "            if np.sum(section) == 4:\n",
    "                win_flag = True\n",
    "\n",
    "    # Check for column win\n",
    "    for col in range(board.shape[1]):\n",
    "        for p1 in range(3):\n",
    "            p4 = p1 + 3\n",
    "            section = board[:, col][p1:p4+1]\n",
    "            if np.sum(section) == 4:\n",
    "                win_flag = True\n",
    "\n",
    "    return win_flag"
   ]
  },
  {
   "cell_type": "markdown",
   "metadata": {},
   "source": [
    "#### Step 4 - Determine The Winner\n",
    "\n",
    "Let's determine the winner! \n",
    "\n",
    "We have to be careful here, as we can't just rely on the length of the recorded history (I tried that first, I didn't work!)\n",
    "\n",
    "In senario's where the first player doesn't win, the lengths of the recorded history will be the same for both bots. I guess we could check the lengths of the recorded history and take into account who's turn it is.\n",
    "\n",
    "However in this code we find if there are any winning moves for the current player. If there is, we know they would have taken that move. If not, the other player must have won on the next turn.\n",
    "\n",
    "\n"
   ]
  },
  {
   "cell_type": "code",
   "execution_count": 7,
   "metadata": {},
   "outputs": [
    {
     "name": "stdout",
     "output_type": "stream",
     "text": [
      "Winner = red\n"
     ]
    }
   ],
   "source": [
    "# Determine Winner\n",
    "win_flag = False\n",
    "blank_board = np.zeros_like(board_yellow[0])\n",
    "if next_turn == 'yellow':\n",
    "\n",
    "    blank_board[yellow_idx] = 1\n",
    "    blank_board[red_idx] = -1\n",
    "\n",
    "    win_flag, move_idx = find_winning_moves(blank_board)\n",
    "\n",
    "    if win_flag is True:\n",
    "        winner = 'yellow'\n",
    "    else:\n",
    "        winner = 'red'\n",
    "elif next_turn == 'red':\n",
    "\n",
    "    blank_board[yellow_idx] = -1\n",
    "    blank_board[red_idx] = 1\n",
    "\n",
    "    win_flag, move_idx = find_winning_moves(blank_board)\n",
    "\n",
    "    if win_flag is True:\n",
    "        winner = 'red'\n",
    "    else:\n",
    "        winner = 'yellow'\n",
    "        \n",
    "print('Winner = {}'.format(winner))"
   ]
  },
  {
   "cell_type": "markdown",
   "metadata": {},
   "source": [
    "Lets just quickly store the winner's board and make sure that we are represented as the winning player! \n",
    "\n",
    "I have made a modified function which accepts a board with Winner = 1 and Enemy = -1. The plot then shows the winning player in blue and enemy as black. We want to make sure the blue player has a winning move, since that is going to be us!"
   ]
  },
  {
   "cell_type": "code",
   "execution_count": 8,
   "metadata": {},
   "outputs": [],
   "source": [
    "# Store index's of winning and loser player\n",
    "if winner == 'yellow':\n",
    "    win_idx = np.where(board == 1)\n",
    "    lose_idx = np.where(board == -1)\n",
    "elif winner == 'red':\n",
    "    win_idx = np.where(board == -1)\n",
    "    lose_idx = np.where(board == 1)\n",
    "\n",
    "# Create Winner Board\n",
    "winner_board = np.zeros_like(board)\n",
    "winner_board[win_idx] = 1\n",
    "winner_board[lose_idx] = -1\n",
    "\n"
   ]
  },
  {
   "cell_type": "code",
   "execution_count": 9,
   "metadata": {},
   "outputs": [],
   "source": [
    "def plot_winner_board(board):\n",
    "    plt.figure()\n",
    "    for row in range(board.shape[0]):\n",
    "        for col in range(board.shape[1]):\n",
    "            if board[5-row][col] == 1:\n",
    "                plt.scatter(col, row, c='Blue', s=500, edgecolors='black')\n",
    "\n",
    "            if board[5-row][col] == -1:\n",
    "                plt.scatter(col, row, c='Black', s=500, edgecolors='black')\n",
    "    plt.grid()\n",
    "    plt.ylim(-1, 6)\n",
    "    plt.xlim(-1, 7)\n",
    "    plt.show()\n",
    "    plt.close()"
   ]
  },
  {
   "cell_type": "code",
   "execution_count": 10,
   "metadata": {},
   "outputs": [
    {
     "data": {
      "image/png": "[encoded data removed]",
      "text/plain": [
       "<Figure size 432x288 with 1 Axes>"
      ]
     },
     "metadata": {},
     "output_type": "display_data"
    }
   ],
   "source": [
    "plot_winner_board(winner_board[last_round])"
   ]
  },
  {
   "cell_type": "markdown",
   "metadata": {},
   "source": [
    "Ok great, we are the blue player and it is our turn. If we put a token in column with idx = 1 we will win the game!\n",
    "\n",
    "Before we go too far we need to include a small code to skip any dud rounds. I'm not too sure why but some rounds are extremely short, too short for someone to win. We can skip these, I won't worry about figuring out what is happening since it is a very low proportion"
   ]
  },
  {
   "cell_type": "code",
   "execution_count": 11,
   "metadata": {},
   "outputs": [],
   "source": [
    "# Skip dud matches\n",
    "if last_round <= 2:\n",
    "    total_dud_rounds += 1\n",
    "    print('Total Dud Matches = {}. Game {} is tiny'.format(total_dud_rounds, game_num))\n",
    "    #continue # Commented out as we have ommited the for loop, should be uncommented when implemented"
   ]
  },
  {
   "cell_type": "markdown",
   "metadata": {},
   "source": [
    "#### Step 5 - Iterate over all rounds\n",
    "\n",
    "Now we can iterate over all the rounds. For each iteration we will store the current board as well as the move that the winning player moved when faced with that board\n",
    "\n",
    "You can read through the comments on the right hand side to see what the code is doing"
   ]
  },
  {
   "cell_type": "code",
   "execution_count": 12,
   "metadata": {},
   "outputs": [
    {
     "name": "stdout",
     "output_type": "stream",
     "text": [
      "\n",
      " This is the winning players board after 0 round(s)\n"
     ]
    },
    {
     "data": {
      "image/png": "[encoded data removed]",
      "text/plain": [
       "<Figure size 432x288 with 1 Axes>"
      ]
     },
     "metadata": {},
     "output_type": "display_data"
    },
    {
     "name": "stdout",
     "output_type": "stream",
     "text": [
      "And the next move from the winning player is idx = 0\n",
      "\n",
      " This is the winning players board after 1 round(s)\n"
     ]
    },
    {
     "data": {
      "image/png": "[encoded data removed]",
      "text/plain": [
       "<Figure size 432x288 with 1 Axes>"
      ]
     },
     "metadata": {},
     "output_type": "display_data"
    },
    {
     "name": "stdout",
     "output_type": "stream",
     "text": [
      "And the next move from the winning player is idx = 3\n",
      "\n",
      " This is the winning players board after 2 round(s)\n"
     ]
    },
    {
     "data": {
      "image/png": "[encoded data removed]",
      "text/plain": [
       "<Figure size 432x288 with 1 Axes>"
      ]
     },
     "metadata": {},
     "output_type": "display_data"
    },
    {
     "name": "stdout",
     "output_type": "stream",
     "text": [
      "And the next move from the winning player is idx = 2\n",
      "\n",
      " This is the winning players board after 3 round(s)\n"
     ]
    },
    {
     "data": {
      "image/png": "[encoded data removed]",
      "text/plain": [
       "<Figure size 432x288 with 1 Axes>"
      ]
     },
     "metadata": {},
     "output_type": "display_data"
    },
    {
     "name": "stdout",
     "output_type": "stream",
     "text": [
      "And the next move from the winning player is idx = 1\n",
      "The current player will win the next game by inserting a token in column 1\n",
      "\n",
      " Just to double check, we should be playing as red\n"
     ]
    },
    {
     "data": {
      "image/png": "[encoded data removed]",
      "text/plain": [
       "<Figure size 432x288 with 1 Axes>"
      ]
     },
     "metadata": {},
     "output_type": "display_data"
    }
   ],
   "source": [
    "# Iterate over all rounds\n",
    "for round in range(last_round+1):\n",
    "    current_board = winner_board[round]                             # Get the current Board\n",
    "    move = None                                                     # Set move to none, we can then check that the move is \n",
    "                                                                    # not none as a bug check\n",
    "\n",
    "    # If we aren't in the last round, determine the move we should make\n",
    "    if round != last_round:\n",
    "        next_board = winner_board[round + 1]                        # Get the next board\n",
    "        board_diff = next_board - current_board                     # Calculate the difference between boards\n",
    "        board_diff[board_diff == -1] = 0                            # Remove the opponents move for now\n",
    "        col_sum = np.sum(board_diff, axis=0)                        # Reduce the 2D matrix to 1D Matrix by summing columns. \n",
    "                                                                    # Only 1 column will have a 1\n",
    "        move = np.where(col_sum == 1)[0][0]                         # Find the column we should place the token\n",
    "    \n",
    "    \n",
    "    # If this is the last Round, determine the winning move\n",
    "    elif round == last_round:\n",
    "\n",
    "        any_win_flag, move_idx = find_winning_moves(current_board)\n",
    "\n",
    "        # If it's the last round and we can't find a winning move, delete game\n",
    "        if any_win_flag is False:\n",
    "            total_dud_rounds += 1\n",
    "            print('Total Dud Matches = {}. No winner in game {}'.format(total_dud_rounds, game_num))\n",
    "            dud_rounds = round\n",
    "            blank_board = np.zeros_like(move_history_input[0])\n",
    "            blank_output = np.zeros_like(move_history_output[0])\n",
    "            for dud_round in range(dud_rounds):\n",
    "                move_history_input[move_count] = blank_board\n",
    "                move_history_output[move_count] = blank_output\n",
    "                move_count -= 1\n",
    "            continue\n",
    "\n",
    "        np.random.shuffle(move_idx)                                 # Shuffle the array\n",
    "        move = move_idx[0]                                          # Select the shuffled array's first index as the winning move\n",
    "\n",
    "    # Record History\n",
    "    move_history_input[move_count] = winner_board[round]            # Set the input data to the current board\n",
    "    move_history_output[move_count][move] = 1                       # Set the output data to the move made by the winning player\n",
    "    move_count += 1                                                 # Increment the move count by 1\n",
    "    \n",
    "    \n",
    "    ### Plot the winners board for each round, comment this section out if you prefer\n",
    "    print('\\n This is the winning players board after {} round(s)'.format(round))\n",
    "    plot_winner_board(current_board)\n",
    "    print('And the next move from the winning player is idx = {}'.format(move))\n",
    "    ### \n",
    "    \n",
    "print('The current player will win the next game by inserting a token in column {}'.format(move))\n",
    "\n",
    "print('\\n Just to double check, we should be playing as {}'.format(winner))\n",
    "\n",
    "plot_board(final_board)"
   ]
  },
  {
   "cell_type": "markdown",
   "metadata": {},
   "source": [
    "#### Step 6 - Save the Final Data\n",
    "\n",
    "Since we started with a pre-allocated amount of empty games we need to restrict the history to the number of games we recorded. We can use the move_count index that we have been using to keep a track of the total number of rounds we've saved.\n",
    "\n",
    "Next we can save the input and output data as Numpy array's which are a really efficient way of storing data\n",
    "\n",
    "For interest, lets print the final data shapes so we know all looks ok.\n",
    "\n",
    "- The Input data should be in the shape (Total Rounds Recorded, Height, Columns)\n",
    "- The Output data should be in the shape (Total Rounds Recorded, Columns, 1)\n",
    "\n",
    "We will make a small code next to load this data and make sure that it all looks good."
   ]
  },
  {
   "cell_type": "code",
   "execution_count": 13,
   "metadata": {},
   "outputs": [
    {
     "name": "stdout",
     "output_type": "stream",
     "text": [
      "move_history_input shape = (3, 6, 7)\n",
      "move_history_output shape = (3, 7, 1)\n"
     ]
    }
   ],
   "source": [
    "# Constrain the total number of rounds to the number we have calculated\n",
    "move_history_input = move_history_input[:move_count-1]\n",
    "move_history_output = move_history_output[:move_count-1]\n",
    "\n",
    "# Save Data\n",
    "np.save(save_folder + 'input_data.npy', move_history_input)\n",
    "np.save(save_folder + 'output_data.npy', move_history_output)\n",
    "\n",
    "print('move_history_input shape = {}'.format(move_history_input.shape))\n",
    "print('move_history_output shape = {}'.format(move_history_output.shape))"
   ]
  },
  {
   "cell_type": "markdown",
   "metadata": {},
   "source": [
    "#### Step 7 - Check The Final Data\n",
    "\n",
    "Let's just quickly check that when we load the data and plot it in order that it looks ok. \n",
    "\n",
    "We should be able to see the current board and output the next move"
   ]
  },
  {
   "cell_type": "code",
   "execution_count": 14,
   "metadata": {},
   "outputs": [
    {
     "name": "stdout",
     "output_type": "stream",
     "text": [
      "Input Shape = (3, 6, 7)\n",
      "Output Shape = (3, 7, 1)\n",
      "\n",
      " New Board\n",
      "Next Move idx = 0\n"
     ]
    },
    {
     "data": {
      "image/png": "[encoded data removed]",
      "text/plain": [
       "<Figure size 432x288 with 1 Axes>"
      ]
     },
     "metadata": {},
     "output_type": "display_data"
    },
    {
     "name": "stdout",
     "output_type": "stream",
     "text": [
      "\n",
      " New Board\n",
      "Next Move idx = 3\n"
     ]
    },
    {
     "data": {
      "image/png": "[encoded data removed]",
      "text/plain": [
       "<Figure size 432x288 with 1 Axes>"
      ]
     },
     "metadata": {},
     "output_type": "display_data"
    },
    {
     "name": "stdout",
     "output_type": "stream",
     "text": [
      "\n",
      " New Board\n",
      "Next Move idx = 2\n"
     ]
    },
    {
     "data": {
      "image/png": "[encoded data removed]",
      "text/plain": [
       "<Figure size 432x288 with 1 Axes>"
      ]
     },
     "metadata": {},
     "output_type": "display_data"
    }
   ],
   "source": [
    "# Load Data\n",
    "\n",
    "move_history_input = np.load(save_folder + 'input_data.npy')\n",
    "move_history_output = np.load(save_folder + 'output_data.npy')\n",
    "\n",
    "print('Input Shape = {}'.format(move_history_input.shape))\n",
    "print('Output Shape = {}'.format(move_history_output.shape))\n",
    "\n",
    "plot_range = np.arange(0, 3, 1)\n",
    "\n",
    "for i in plot_range:\n",
    "    print('\\n New Board')\n",
    "    print('Next Move idx = {}'.format(np.argmax(move_history_output[i])))\n",
    "    plot_winner_board(move_history_input[i])"
   ]
  },
  {
   "cell_type": "markdown",
   "metadata": {},
   "source": [
    "#### Woohoo!\n",
    "\n",
    "All done, now we can get to the fun part - Part 5: Building a NN in Tensorflow\n",
    "\n",
    "Here is the complete code including a loop to go through the number of games we have asked for.\n",
    "\n",
    "I have made a new file called HelperFunctions to store all of the functions we are using in the project. The entire file so far is included below. Uncomment line 6 if you would like to store the functions in a new file."
   ]
  },
  {
   "cell_type": "code",
   "execution_count": 15,
   "metadata": {},
   "outputs": [
    {
     "name": "stdout",
     "output_type": "stream",
     "text": [
      "Warning: Restricting total games from 12000 to 10\n",
      "Total Dud Matches = 1. Game 1 is tiny\n",
      "Total Dud Matches = 2. Game 5 is tiny\n"
     ]
    }
   ],
   "source": [
    "import numpy as np\n",
    "import time\n",
    "import matplotlib.pyplot as plt\n",
    "import os\n",
    "\n",
    "# from HelperFunctions.HelperFunctions import plot_board, plot_winner_board, four_in_a_row, find_last_round, find_winning_moves\n",
    "\n",
    "# Parameters\n",
    "total_games = 12000\n",
    "\n",
    "# Variables\n",
    "move_count = 0\n",
    "total_dud_rounds = 0\n",
    "move_history_input = np.zeros((total_games * 30, 6, 7))\n",
    "move_history_output = np.zeros((total_games * 30, 7, 1))\n",
    "\n",
    "# Filepaths\n",
    "red_load_folder = './Red_Games/'\n",
    "yellow_load_folder = './Yellow_Games/'\n",
    "save_folder = './Processed_Games/'\n",
    "\n",
    "all_games_red = os.listdir(red_load_folder)\n",
    "all_games_yellow = os.listdir(yellow_load_folder)\n",
    "\n",
    "assert len(all_games_red) == len(all_games_yellow)\n",
    "\n",
    "if total_games > len(all_games_red):\n",
    "    print('Warning: Restricting total games from {} to {}'.format(total_games, len(all_games_red)))\n",
    "    total_games = len(all_games_red)\n",
    "\n",
    "\n",
    "# Iterate over the total number of games we want to store\n",
    "for game_num in range(total_games):\n",
    "\n",
    "    # Load Red and Yellow player's history\n",
    "    board_red = np.load(red_load_folder + all_games_red[game_num])\n",
    "    board_yellow = np.load(yellow_load_folder + all_games_yellow[game_num])\n",
    "\n",
    "    # Find Longest Round\n",
    "    last_round_yellow = find_last_round(board_yellow)\n",
    "    last_round_red = find_last_round(board_red)\n",
    "    last_round = np.maximum(last_round_yellow, last_round_red)\n",
    "\n",
    "    # Keep a copy of the last board\n",
    "    if last_round_yellow == last_round:\n",
    "        final_board = board_yellow[last_round]\n",
    "        board = board_yellow.copy()\n",
    "        next_turn = 'yellow'\n",
    "    elif last_round_red == last_round:\n",
    "        final_board = board_red[last_round]\n",
    "        board = board_red.copy()\n",
    "        next_turn = 'red'\n",
    "\n",
    "    # Keep a Copy of Yellow and Red Tokens\n",
    "    yellow_idx = np.where(final_board == 1)\n",
    "    red_idx = np.where(final_board == -1)\n",
    "\n",
    "    # Determine Winner\n",
    "    win_flag = False\n",
    "    blank_board = np.zeros_like(board_yellow[0])\n",
    "    if next_turn == 'yellow':\n",
    "\n",
    "        blank_board[yellow_idx] = 1\n",
    "        blank_board[red_idx] = -1\n",
    "\n",
    "        win_flag, move_idx = find_winning_moves(blank_board)\n",
    "\n",
    "        if win_flag is True:\n",
    "            winner = 'yellow'\n",
    "        else:\n",
    "            winner = 'red'\n",
    "    elif next_turn == 'red':\n",
    "\n",
    "        blank_board[yellow_idx] = -1\n",
    "        blank_board[red_idx] = 1\n",
    "\n",
    "        win_flag, move_idx = find_winning_moves(blank_board)\n",
    "\n",
    "        if win_flag is True:\n",
    "            winner = 'red'\n",
    "        else:\n",
    "            winner = 'yellow'\n",
    "\n",
    "    # Store index's of winning and loser player\n",
    "    if winner == 'yellow':\n",
    "        win_idx = np.where(board == 1)\n",
    "        lose_idx = np.where(board == -1)\n",
    "    elif winner == 'red':\n",
    "        win_idx = np.where(board == -1)\n",
    "        lose_idx = np.where(board == 1)\n",
    "\n",
    "    # Create Winner Board\n",
    "    winner_board = np.zeros_like(board)\n",
    "    winner_board[win_idx] = 1\n",
    "    winner_board[lose_idx] = -1\n",
    "\n",
    "    # Skip dud matches\n",
    "    if last_round <= 2:\n",
    "        total_dud_rounds += 1\n",
    "        print('Total Dud Matches = {}. Game {} is tiny'.format(total_dud_rounds, game_num))\n",
    "        continue\n",
    "\n",
    "    # Iterate over all rounds\n",
    "    for round in range(last_round+1):\n",
    "        current_board = winner_board[round]                             # Get the current Board\n",
    "        move = None                                                     # Set move to none, we can then check that the move is not none as a bug check\n",
    "\n",
    "        # If we aren't in the last round, determine the move we should make\n",
    "        if round != last_round:\n",
    "            next_board = winner_board[round + 1]                        # Get the next board\n",
    "            board_diff = next_board - current_board                     # Calculate the difference between boards\n",
    "            board_diff[board_diff == -1] = 0                            # Remove the opponents move for now\n",
    "            col_sum = np.sum(board_diff, axis=0)                        # Reduce the 2D matrix to 1D Matrix by summing columns. Only 1 column will have a 1\n",
    "            move = np.where(col_sum == 1)[0]                            # Find the column we should place the token\n",
    "\n",
    "        # If this is the last Round, determine the winning move\n",
    "        elif round == last_round:\n",
    "\n",
    "            any_win_flag, move_idx = find_winning_moves(current_board)\n",
    "\n",
    "            # If it's the last round and we can't find a winning move, delete game\n",
    "            if any_win_flag is False:\n",
    "                total_dud_rounds += 1\n",
    "                print('Total Dud Matches = {}. No winner in game {}'.format(total_dud_rounds, game_num))\n",
    "                dud_rounds = round\n",
    "                blank_board = np.zeros_like(move_history_input[0])\n",
    "                blank_output = np.zeros_like(move_history_output[0])\n",
    "                for dud_round in range(dud_rounds):\n",
    "                    move_history_input[move_count] = blank_board\n",
    "                    move_history_output[move_count] = blank_output\n",
    "                    move_count -= 1\n",
    "                continue\n",
    "\n",
    "            np.random.shuffle(move_idx)                                 # Shuffle the array\n",
    "            move = move_idx[0]                                          # Select the shuffled array's first index as the winning move\n",
    "\n",
    "        # Record History\n",
    "        move_history_input[move_count] = winner_board[round]            # Set the input data to the current board\n",
    "        move_history_output[move_count][move] = 1                       # Set the output data to the move made by the winning player\n",
    "        move_count += 1                                                 # Increment the move count by 1\n",
    "\n",
    "# Constrain the total number of rounds to the number we have calculated\n",
    "move_history_input = move_history_input[:move_count-1]\n",
    "move_history_output = move_history_output[:move_count-1]\n",
    "\n",
    "# Save Data\n",
    "np.save(save_folder + 'input_data.npy', move_history_input)\n",
    "np.save(save_folder + 'output_data.npy', move_history_output)\n"
   ]
  },
  {
   "cell_type": "code",
   "execution_count": 16,
   "metadata": {},
   "outputs": [],
   "source": [
    "import numpy as np\n",
    "import matplotlib.pyplot as plt\n",
    "\n",
    "\n",
    "def find_last_round(board):\n",
    "    for round in range(1, board.shape[0]):  # Skip first round (Sum is 0 for the first player's first move)\n",
    "        board_abs = np.abs(board[round])\n",
    "        board_sum = np.sum(board_abs)\n",
    "\n",
    "        if board_sum == 0:\n",
    "            last_round = round - 1\n",
    "            break\n",
    "\n",
    "    return last_round\n",
    "\n",
    "\n",
    "def plot_board(board):\n",
    "    plt.figure()\n",
    "    for row in range(board.shape[0]):\n",
    "        for col in range(board.shape[1]):\n",
    "            if board[5-row][col] == 1:\n",
    "                plt.scatter(col, row, c='Yellow', s=500, edgecolors='black')\n",
    "\n",
    "            if board[5-row][col] == -1:\n",
    "                plt.scatter(col, row, c='Red', s=500, edgecolors='black')\n",
    "    plt.grid()\n",
    "    plt.ylim(-1, 6)\n",
    "    plt.xlim(-1, 7)\n",
    "    plt.show()\n",
    "\n",
    "\n",
    "def plot_winner_board(board):\n",
    "    plt.figure()\n",
    "    for row in range(board.shape[0]):\n",
    "        for col in range(board.shape[1]):\n",
    "            if board[5-row][col] == 1:\n",
    "                plt.scatter(col, row, c='Blue', s=500, edgecolors='black')\n",
    "\n",
    "            if board[5-row][col] == -1:\n",
    "                plt.scatter(col, row, c='Black', s=500, edgecolors='black')\n",
    "    plt.grid()\n",
    "    plt.ylim(-1, 6)\n",
    "    plt.xlim(-1, 7)\n",
    "    plt.show()\n",
    "    plt.close()\n",
    "\n",
    "\n",
    "def four_in_a_row(board):\n",
    "\n",
    "    win_flag = False\n",
    "\n",
    "    # Check Diagonal (P1 = Bottom Left - P4 = Top Right)\n",
    "    for p1_col in range(4):\n",
    "        p2_col = p1_col + 1\n",
    "        p3_col = p2_col + 1\n",
    "        p4_col = p3_col + 1\n",
    "\n",
    "        for p1_row in range(3, 6):\n",
    "            p2_row = p1_row - 1\n",
    "            p3_row = p2_row - 1\n",
    "            p4_row = p3_row - 1\n",
    "\n",
    "            p1 = board[p1_row][p1_col]\n",
    "            p2 = board[p2_row][p2_col]\n",
    "            p3 = board[p3_row][p3_col]\n",
    "            p4 = board[p4_row][p4_col]\n",
    "\n",
    "            if np.sum([p1, p2, p3, p4]) == 4:\n",
    "                win_flag = True\n",
    "\n",
    "    # Check Diagonal (P1 = Top Left - P4 = Bottom Right)\n",
    "    for p1_col in range(3):\n",
    "        p2_col = p1_col + 1\n",
    "        p3_col = p2_col + 1\n",
    "        p4_col = p3_col + 1\n",
    "\n",
    "        for p1_row in range(3):\n",
    "            p2_row = p1_row + 1  # Careful, we swap sign to +\n",
    "            p3_row = p2_row + 1  # Careful, we swap sign to +\n",
    "            p4_row = p3_row + 1  # Careful, we swap sign to +\n",
    "\n",
    "            p1 = board[p1_row][p1_col]\n",
    "            p2 = board[p2_row][p2_col]\n",
    "            p3 = board[p3_row][p3_col]\n",
    "            p4 = board[p4_row][p4_col]\n",
    "\n",
    "            if np.sum([p1, p2, p3, p4]) == 4:\n",
    "                win_flag = True\n",
    "\n",
    "    # Check for row win\n",
    "    for row in range(board.shape[0]):\n",
    "        for p1 in range(4):\n",
    "            p4 = p1 + 3\n",
    "\n",
    "            section = board[row][p1:p4+1]\n",
    "\n",
    "            if np.sum(section) == 4:\n",
    "                win_flag = True\n",
    "\n",
    "    # Check for column win\n",
    "    for col in range(board.shape[1]):\n",
    "        for p1 in range(3):\n",
    "            p4 = p1 + 3\n",
    "            section = board[:, col][p1:p4+1]\n",
    "            if np.sum(section) == 4:\n",
    "                win_flag = True\n",
    "\n",
    "    return win_flag\n",
    "\n",
    "\n",
    "def find_winning_moves(board):\n",
    "\n",
    "    move_idx = []                                       # List to hold any winning moves\n",
    "    valid_cols = np.where(board[0] == 0)[0]             # Calculate valid columns we can put token in\n",
    "    win_flag = False\n",
    "    any_win_flag = False\n",
    "\n",
    "    # Iterate over all valid columns\n",
    "    for col in valid_cols:\n",
    "        new_board = board.copy()                        # Copy the current board to a new board\n",
    "        row_options = np.where(board[:, col] == 0)[0]   # For each column, calc which rows are empty\n",
    "        lowest_row = np.max(row_options)                # The lowest row will be the maximum index row\n",
    "        new_board[lowest_row][col] = 1                  # Put a token in the new position\n",
    "\n",
    "        win_flag = four_in_a_row(new_board)             # Check if this play would win the game. Win_flag will be true if so\n",
    "\n",
    "        # If Win, record column as a winning play\n",
    "        if win_flag is True:\n",
    "            any_win_flag = True\n",
    "            move_idx.append(col)                        # Add the win to the list of possible winning moves\n",
    "\n",
    "    return any_win_flag, np.array(move_idx)             # Convert list of possible moves to a numpy array"
   ]
  },
  {
   "cell_type": "code",
   "execution_count": null,
   "metadata": {},
   "outputs": [],
   "source": []
  }
 ],
 "metadata": {
  "kernelspec": {
   "display_name": "Python 3",
   "language": "python",
   "name": "python3"
  },
  "language_info": {
   "codemirror_mode": {
    "name": "ipython",
    "version": 3
   },
   "file_extension": ".py",
   "mimetype": "text/x-python",
   "name": "python",
   "nbconvert_exporter": "python",
   "pygments_lexer": "ipython3",
   "version": "3.6.4"
  }
 },
 "nbformat": 4,
 "nbformat_minor": 2
}
